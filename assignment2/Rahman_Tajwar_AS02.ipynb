{
 "cells": [
  {
   "cell_type": "code",
   "execution_count": 27,
   "metadata": {},
   "outputs": [],
   "source": [
    "import numpy as np\n",
    "import pandas as pd\n",
    "import matplotlib.pyplot as plt\n",
    "from sklearn.linear_model import SGDClassifier"
   ]
  },
  {
   "cell_type": "code",
   "execution_count": 15,
   "metadata": {},
   "outputs": [],
   "source": [
    "df = pd.read_csv('iris-dataset.csv', header=None)"
   ]
  },
  {
   "cell_type": "code",
   "execution_count": 16,
   "metadata": {},
   "outputs": [
    {
     "data": {
      "text/html": [
       "<div>\n",
       "<style scoped>\n",
       "    .dataframe tbody tr th:only-of-type {\n",
       "        vertical-align: middle;\n",
       "    }\n",
       "\n",
       "    .dataframe tbody tr th {\n",
       "        vertical-align: top;\n",
       "    }\n",
       "\n",
       "    .dataframe thead th {\n",
       "        text-align: right;\n",
       "    }\n",
       "</style>\n",
       "<table border=\"1\" class=\"dataframe\">\n",
       "  <thead>\n",
       "    <tr style=\"text-align: right;\">\n",
       "      <th></th>\n",
       "      <th>0</th>\n",
       "      <th>1</th>\n",
       "      <th>2</th>\n",
       "      <th>3</th>\n",
       "      <th>4</th>\n",
       "    </tr>\n",
       "  </thead>\n",
       "  <tbody>\n",
       "    <tr>\n",
       "      <th>0</th>\n",
       "      <td>5.1</td>\n",
       "      <td>3.5</td>\n",
       "      <td>1.4</td>\n",
       "      <td>0.2</td>\n",
       "      <td>Iris-setosa</td>\n",
       "    </tr>\n",
       "    <tr>\n",
       "      <th>1</th>\n",
       "      <td>4.9</td>\n",
       "      <td>3.0</td>\n",
       "      <td>1.4</td>\n",
       "      <td>0.2</td>\n",
       "      <td>Iris-setosa</td>\n",
       "    </tr>\n",
       "    <tr>\n",
       "      <th>2</th>\n",
       "      <td>4.7</td>\n",
       "      <td>3.2</td>\n",
       "      <td>1.3</td>\n",
       "      <td>0.2</td>\n",
       "      <td>Iris-setosa</td>\n",
       "    </tr>\n",
       "    <tr>\n",
       "      <th>3</th>\n",
       "      <td>4.6</td>\n",
       "      <td>3.1</td>\n",
       "      <td>1.5</td>\n",
       "      <td>0.2</td>\n",
       "      <td>Iris-setosa</td>\n",
       "    </tr>\n",
       "    <tr>\n",
       "      <th>4</th>\n",
       "      <td>5.0</td>\n",
       "      <td>3.6</td>\n",
       "      <td>1.4</td>\n",
       "      <td>0.2</td>\n",
       "      <td>Iris-setosa</td>\n",
       "    </tr>\n",
       "    <tr>\n",
       "      <th>5</th>\n",
       "      <td>5.4</td>\n",
       "      <td>3.9</td>\n",
       "      <td>1.7</td>\n",
       "      <td>0.4</td>\n",
       "      <td>Iris-setosa</td>\n",
       "    </tr>\n",
       "    <tr>\n",
       "      <th>6</th>\n",
       "      <td>4.6</td>\n",
       "      <td>3.4</td>\n",
       "      <td>1.4</td>\n",
       "      <td>0.3</td>\n",
       "      <td>Iris-setosa</td>\n",
       "    </tr>\n",
       "    <tr>\n",
       "      <th>7</th>\n",
       "      <td>5.0</td>\n",
       "      <td>3.4</td>\n",
       "      <td>1.5</td>\n",
       "      <td>0.2</td>\n",
       "      <td>Iris-setosa</td>\n",
       "    </tr>\n",
       "    <tr>\n",
       "      <th>8</th>\n",
       "      <td>4.4</td>\n",
       "      <td>2.9</td>\n",
       "      <td>1.4</td>\n",
       "      <td>0.2</td>\n",
       "      <td>Iris-setosa</td>\n",
       "    </tr>\n",
       "    <tr>\n",
       "      <th>9</th>\n",
       "      <td>4.9</td>\n",
       "      <td>3.1</td>\n",
       "      <td>1.5</td>\n",
       "      <td>0.1</td>\n",
       "      <td>Iris-setosa</td>\n",
       "    </tr>\n",
       "  </tbody>\n",
       "</table>\n",
       "</div>"
      ],
      "text/plain": [
       "     0    1    2    3            4\n",
       "0  5.1  3.5  1.4  0.2  Iris-setosa\n",
       "1  4.9  3.0  1.4  0.2  Iris-setosa\n",
       "2  4.7  3.2  1.3  0.2  Iris-setosa\n",
       "3  4.6  3.1  1.5  0.2  Iris-setosa\n",
       "4  5.0  3.6  1.4  0.2  Iris-setosa\n",
       "5  5.4  3.9  1.7  0.4  Iris-setosa\n",
       "6  4.6  3.4  1.4  0.3  Iris-setosa\n",
       "7  5.0  3.4  1.5  0.2  Iris-setosa\n",
       "8  4.4  2.9  1.4  0.2  Iris-setosa\n",
       "9  4.9  3.1  1.5  0.1  Iris-setosa"
      ]
     },
     "execution_count": 16,
     "metadata": {},
     "output_type": "execute_result"
    }
   ],
   "source": [
    "df.head(10)"
   ]
  },
  {
   "cell_type": "code",
   "execution_count": 17,
   "metadata": {},
   "outputs": [
    {
     "name": "stdout",
     "output_type": "stream",
     "text": [
      "<class 'pandas.core.frame.DataFrame'>\n",
      "RangeIndex: 150 entries, 0 to 149\n",
      "Data columns (total 5 columns):\n",
      " #   Column  Non-Null Count  Dtype  \n",
      "---  ------  --------------  -----  \n",
      " 0   0       150 non-null    float64\n",
      " 1   1       150 non-null    float64\n",
      " 2   2       150 non-null    float64\n",
      " 3   3       150 non-null    float64\n",
      " 4   4       150 non-null    object \n",
      "dtypes: float64(4), object(1)\n",
      "memory usage: 6.0+ KB\n"
     ]
    }
   ],
   "source": [
    "df.info()"
   ]
  },
  {
   "cell_type": "code",
   "execution_count": 22,
   "metadata": {},
   "outputs": [],
   "source": [
    "df.columns=['SepalLength', 'SepalWidth', 'PetalLength', 'PetalWidth', 'Species']"
   ]
  },
  {
   "cell_type": "code",
   "execution_count": 23,
   "metadata": {},
   "outputs": [
    {
     "name": "stdout",
     "output_type": "stream",
     "text": [
      "<class 'pandas.core.frame.DataFrame'>\n",
      "RangeIndex: 150 entries, 0 to 149\n",
      "Data columns (total 5 columns):\n",
      " #   Column       Non-Null Count  Dtype  \n",
      "---  ------       --------------  -----  \n",
      " 0   SepalLength  150 non-null    float64\n",
      " 1   SepalWidth   150 non-null    float64\n",
      " 2   PetalLength  150 non-null    float64\n",
      " 3   PetalWidth   150 non-null    float64\n",
      " 4   Species      150 non-null    object \n",
      "dtypes: float64(4), object(1)\n",
      "memory usage: 6.0+ KB\n"
     ]
    }
   ],
   "source": [
    "df.info()"
   ]
  },
  {
   "cell_type": "code",
   "execution_count": 25,
   "metadata": {},
   "outputs": [
    {
     "data": {
      "text/html": [
       "<div>\n",
       "<style scoped>\n",
       "    .dataframe tbody tr th:only-of-type {\n",
       "        vertical-align: middle;\n",
       "    }\n",
       "\n",
       "    .dataframe tbody tr th {\n",
       "        vertical-align: top;\n",
       "    }\n",
       "\n",
       "    .dataframe thead th {\n",
       "        text-align: right;\n",
       "    }\n",
       "</style>\n",
       "<table border=\"1\" class=\"dataframe\">\n",
       "  <thead>\n",
       "    <tr style=\"text-align: right;\">\n",
       "      <th></th>\n",
       "      <th>SepalLength</th>\n",
       "      <th>SepalWidth</th>\n",
       "      <th>PetalLength</th>\n",
       "      <th>PetalWidth</th>\n",
       "      <th>Species</th>\n",
       "    </tr>\n",
       "  </thead>\n",
       "  <tbody>\n",
       "    <tr>\n",
       "      <th>0</th>\n",
       "      <td>5.1</td>\n",
       "      <td>3.5</td>\n",
       "      <td>1.4</td>\n",
       "      <td>0.2</td>\n",
       "      <td>Iris-setosa</td>\n",
       "    </tr>\n",
       "    <tr>\n",
       "      <th>1</th>\n",
       "      <td>4.9</td>\n",
       "      <td>3.0</td>\n",
       "      <td>1.4</td>\n",
       "      <td>0.2</td>\n",
       "      <td>Iris-setosa</td>\n",
       "    </tr>\n",
       "    <tr>\n",
       "      <th>2</th>\n",
       "      <td>4.7</td>\n",
       "      <td>3.2</td>\n",
       "      <td>1.3</td>\n",
       "      <td>0.2</td>\n",
       "      <td>Iris-setosa</td>\n",
       "    </tr>\n",
       "    <tr>\n",
       "      <th>3</th>\n",
       "      <td>4.6</td>\n",
       "      <td>3.1</td>\n",
       "      <td>1.5</td>\n",
       "      <td>0.2</td>\n",
       "      <td>Iris-setosa</td>\n",
       "    </tr>\n",
       "    <tr>\n",
       "      <th>4</th>\n",
       "      <td>5.0</td>\n",
       "      <td>3.6</td>\n",
       "      <td>1.4</td>\n",
       "      <td>0.2</td>\n",
       "      <td>Iris-setosa</td>\n",
       "    </tr>\n",
       "  </tbody>\n",
       "</table>\n",
       "</div>"
      ],
      "text/plain": [
       "   SepalLength  SepalWidth  PetalLength  PetalWidth      Species\n",
       "0          5.1         3.5          1.4         0.2  Iris-setosa\n",
       "1          4.9         3.0          1.4         0.2  Iris-setosa\n",
       "2          4.7         3.2          1.3         0.2  Iris-setosa\n",
       "3          4.6         3.1          1.5         0.2  Iris-setosa\n",
       "4          5.0         3.6          1.4         0.2  Iris-setosa"
      ]
     },
     "execution_count": 25,
     "metadata": {},
     "output_type": "execute_result"
    }
   ],
   "source": [
    "df.head()"
   ]
  },
  {
   "cell_type": "markdown",
   "metadata": {},
   "source": [
    "# Dataset Info\n",
    "The dataset includes 150 samples, 50 from each of the tree species:\n",
    "- α) Setosa\n",
    "- β) Versicolor\n",
    "- γ) Virginica\n",
    "\n",
    "For each sample the dataset includes four features:\n",
    "- A) sepal length\n",
    "- B) sepal width\n",
    "- C) petal length\n",
    "- D) petal width\n",
    "\n",
    "For a classification problem using the specieas as the classes, we can load the data for 2 or 3 classes and 1-4 of the features.\n",
    "\n",
    "For the purpose of this assignment these are the following 4 combinations of features that will be used: **A**, **AD**, **BCD**, and **ABCD**"
   ]
  },
  {
   "cell_type": "code",
   "execution_count": 63,
   "metadata": {},
   "outputs": [],
   "source": [
    "# All possible loss functions\n",
    "loss_functions = ['hinge', 'log_loss', 'perceptron', 'squared_hinge']\n",
    "overall_accuracies = []"
   ]
  },
  {
   "cell_type": "markdown",
   "metadata": {},
   "source": [
    "# One Feature: A (Sepal Length)"
   ]
  },
  {
   "cell_type": "code",
   "execution_count": 64,
   "metadata": {},
   "outputs": [
    {
     "name": "stdout",
     "output_type": "stream",
     "text": [
      "Loss function: hinge, Accuracy: 0.62\n",
      "Loss function: log_loss, Accuracy: 0.64\n",
      "Loss function: perceptron, Accuracy: 0.39\n",
      "Loss function: squared_hinge, Accuracy: 0.66\n"
     ]
    }
   ],
   "source": [
    "sepal_length_data = df[[\"SepalLength\"]]\n",
    "sepal_length_target = df[\"Species\"]\n",
    "sepal_length_accuracies = {}\n",
    "\n",
    "for loss in loss_functions:\n",
    "    # create an instance of the model\n",
    "    model = SGDClassifier(loss=loss)\n",
    "    \n",
    "    # fit the dataset to the model\n",
    "    model.fit(sepal_length_data, sepal_length_target)\n",
    "    \n",
    "    #evaluate the model using the entirety of the dataset\n",
    "    accuracy = model.score(sepal_length_data, sepal_length_target)\n",
    "    sepal_length_accuracies[loss] = accuracy\n",
    "for loss, acc in sepal_length_accuracies.items():\n",
    "    print(f\"Loss function: {loss}, Accuracy: {acc:.2f}\")\n",
    "\n",
    "overall_accuracies.append(sepal_length_accuracies)"
   ]
  },
  {
   "cell_type": "markdown",
   "metadata": {},
   "source": [
    "# Two Features: AD (Sepal Length and Petal Width)"
   ]
  },
  {
   "cell_type": "code",
   "execution_count": 65,
   "metadata": {},
   "outputs": [
    {
     "name": "stdout",
     "output_type": "stream",
     "text": [
      "Loss function: hinge, Accuracy: 0.83\n",
      "Loss function: log_loss, Accuracy: 0.87\n",
      "Loss function: perceptron, Accuracy: 0.81\n",
      "Loss function: squared_hinge, Accuracy: 0.93\n"
     ]
    }
   ],
   "source": [
    "data = df[[\"SepalLength\", \"PetalWidth\"]]\n",
    "target = df[\"Species\"]\n",
    "accuracies = {}\n",
    "\n",
    "for loss in loss_functions:\n",
    "    # create an instance of the model\n",
    "    model = SGDClassifier(loss=loss)\n",
    "\n",
    "    # fit the dataset to the model\n",
    "    model.fit(data, target)\n",
    "\n",
    "    # evaluate the model using the entirety of the dataset\n",
    "    accuracy = model.score(data, target)\n",
    "    accuracies[loss] = accuracy\n",
    "for loss, acc in accuracies.items():\n",
    "    print(f\"Loss function: {loss}, Accuracy: {acc:.2f}\")\n",
    "    \n",
    "overall_accuracies.append(accuracies)"
   ]
  },
  {
   "cell_type": "markdown",
   "metadata": {},
   "source": [
    "# Three Features: BCD (Sepal Width, Petal Length, and Petal Width)"
   ]
  },
  {
   "cell_type": "code",
   "execution_count": 66,
   "metadata": {},
   "outputs": [
    {
     "name": "stdout",
     "output_type": "stream",
     "text": [
      "Loss function: hinge, Accuracy: 0.90\n",
      "Loss function: log_loss, Accuracy: 0.89\n",
      "Loss function: perceptron, Accuracy: 0.95\n",
      "Loss function: squared_hinge, Accuracy: 0.91\n"
     ]
    }
   ],
   "source": [
    "data = df[[\"SepalWidth\", \"PetalLength\", \"PetalWidth\"]]\n",
    "target = df[\"Species\"]\n",
    "accuracies = {}\n",
    "\n",
    "for loss in loss_functions:\n",
    "    # create an instance of the model\n",
    "    model = SGDClassifier(loss=loss)\n",
    "\n",
    "    # fit the dataset to the model\n",
    "    model.fit(data, target)\n",
    "\n",
    "    # evaluate the model using the entirety of the dataset\n",
    "    accuracy = model.score(data, target)\n",
    "    accuracies[loss] = accuracy\n",
    "for loss, acc in accuracies.items():\n",
    "    print(f\"Loss function: {loss}, Accuracy: {acc:.2f}\")\n",
    "    \n",
    "overall_accuracies.append(accuracies)"
   ]
  },
  {
   "cell_type": "markdown",
   "metadata": {},
   "source": [
    "# Four Features: All Features"
   ]
  },
  {
   "cell_type": "code",
   "execution_count": 67,
   "metadata": {},
   "outputs": [
    {
     "name": "stdout",
     "output_type": "stream",
     "text": [
      "Loss function: hinge, Accuracy: 0.69\n",
      "Loss function: log_loss, Accuracy: 0.74\n",
      "Loss function: perceptron, Accuracy: 0.94\n",
      "Loss function: squared_hinge, Accuracy: 0.85\n"
     ]
    }
   ],
   "source": [
    "# target should only be the first 4 columns which have features -> get rid of the last column which is the target\n",
    "data = df.iloc[:, :-1]\n",
    "target = df[\"Species\"]\n",
    "accuracies = {}\n",
    "\n",
    "for loss in loss_functions:\n",
    "    # create an instance of the model\n",
    "    model = SGDClassifier(loss=loss)\n",
    "\n",
    "    # fit the dataset to the model\n",
    "    model.fit(data, target)\n",
    "\n",
    "    # evaluate the model using the entirety of the dataset\n",
    "    accuracy = model.score(data, target)\n",
    "    accuracies[loss] = accuracy\n",
    "for loss, acc in accuracies.items():\n",
    "    print(f\"Loss function: {loss}, Accuracy: {acc:.2f}\")\n",
    "    \n",
    "overall_accuracies.append(accuracies)"
   ]
  },
  {
   "cell_type": "markdown",
   "metadata": {},
   "source": [
    "# Evaluation\n",
    "Here I compare the accuracy of the 16 features/loss-function pairs and include visualizations"
   ]
  },
  {
   "cell_type": "code",
   "execution_count": 68,
   "metadata": {},
   "outputs": [
    {
     "name": "stdout",
     "output_type": "stream",
     "text": [
      "[{'hinge': 0.62, 'log_loss': 0.64, 'perceptron': 0.38666666666666666, 'squared_hinge': 0.66}, {'hinge': 0.8266666666666667, 'log_loss': 0.8666666666666667, 'perceptron': 0.8133333333333334, 'squared_hinge': 0.9333333333333333}, {'hinge': 0.9, 'log_loss': 0.8866666666666667, 'perceptron': 0.9466666666666667, 'squared_hinge': 0.9066666666666666}, {'hinge': 0.6866666666666666, 'log_loss': 0.74, 'perceptron': 0.94, 'squared_hinge': 0.8533333333333334}]\n"
     ]
    }
   ],
   "source": [
    "print(overall_accuracies)"
   ]
  },
  {
   "cell_type": "code",
   "execution_count": 73,
   "metadata": {},
   "outputs": [],
   "source": [
    "columns = ['SepalLength', 'SepalWidth', 'PetalLength', 'PetalWidth']\n",
    "features = ['A', 'AD', 'BCD', 'ABCD']\n",
    "formatted_data = {}\n",
    "\n",
    "for i, feature_label in enumerate(features):\n",
    "    # Initialize a list to hold accuracies for the current feature set\n",
    "    formatted_data[feature_label] = []\n",
    "    for loss_function in loss_functions:\n",
    "        # Append the accuracy for each loss function in the order specified by `loss_functions`\n",
    "        formatted_data[feature_label].append(overall_accuracies[i][loss_function])\n"
   ]
  },
  {
   "cell_type": "code",
   "execution_count": 81,
   "metadata": {},
   "outputs": [
    {
     "data": {
      "text/plain": [
       "<matplotlib.legend.Legend at 0x7f8810a24f10>"
      ]
     },
     "execution_count": 81,
     "metadata": {},
     "output_type": "execute_result"
    },
    {
     "data": {
      "image/png": "[encoded data removed]",
      "text/plain": [
       "<Figure size 640x480 with 1 Axes>"
      ]
     },
     "metadata": {},
     "output_type": "display_data"
    }
   ],
   "source": [
    "fig, ax = plt.subplots()\n",
    "\n",
    "pos = np.arange(len(features))\n",
    "bar_width = 0.2\n",
    "# Plotting each loss_function's accuracy per feature\n",
    "for i, loss_fn in enumerate(loss_functions):\n",
    "    accuracies = [formatted_data[feature][i]*100 for feature in features]\n",
    "    ax.bar(pos + i * bar_width, accuracies, bar_width, label=loss_fn)\n",
    "\n",
    "ax.set_xlabel('Features')\n",
    "ax.set_ylabel('Accuracy (%)')\n",
    "ax.set_title('Model Accuracy by Feature and Loss Function')\n",
    "ax.set_xticks(pos + bar_width / 2)\n",
    "ax.set_xticklabels(features)\n",
    "ax.legend()"
   ]
  },
  {
   "cell_type": "code",
   "execution_count": null,
   "metadata": {},
   "outputs": [],
   "source": []
  }
 ],
 "metadata": {
  "kernelspec": {
   "display_name": "Python 3",
   "language": "python",
   "name": "python3"
  },
  "language_info": {
   "codemirror_mode": {
    "name": "ipython",
    "version": 3
   },
   "file_extension": ".py",
   "mimetype": "text/x-python",
   "name": "python",
   "nbconvert_exporter": "python",
   "pygments_lexer": "ipython3",
   "version": "3.9.6"
  }
 },
 "nbformat": 4,
 "nbformat_minor": 2
}
